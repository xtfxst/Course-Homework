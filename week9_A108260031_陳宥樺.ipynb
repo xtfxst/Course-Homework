{
  "nbformat": 4,
  "nbformat_minor": 0,
  "metadata": {
    "colab": {
      "name": "week9-A108260031-陳宥樺",
      "provenance": [],
      "include_colab_link": true
    },
    "kernelspec": {
      "name": "python3",
      "display_name": "Python 3"
    }
  },
  "cells": [
    {
      "cell_type": "markdown",
      "metadata": {
        "id": "view-in-github",
        "colab_type": "text"
      },
      "source": [
        "<a href=\"https://colab.research.google.com/github/xtfxst/Course-Homework/blob/master/week9_A108260031_%E9%99%B3%E5%AE%A5%E6%A8%BA.ipynb\" target=\"_parent\"><img src=\"https://colab.research.google.com/assets/colab-badge.svg\" alt=\"Open In Colab\"/></a>"
      ]
    },
    {
      "cell_type": "code",
      "metadata": {
        "id": "av9P8rq0el6T",
        "colab_type": "code",
        "colab": {
          "base_uri": "https://localhost:8080/",
          "height": 51
        },
        "outputId": "e52c101e-f879-488d-8eff-fc0ec1b3b758"
      },
      "source": [
        "score=int(input('請輸入一個成績?'))\n",
        "if score>=60:\n",
        "  print('很好，請繼續保持下去')"
      ],
      "execution_count": 1,
      "outputs": [
        {
          "output_type": "stream",
          "text": [
            "請輸入一個成績?88\n",
            "很好，請繼續保持下去\n"
          ],
          "name": "stdout"
        }
      ]
    },
    {
      "cell_type": "code",
      "metadata": {
        "id": "rn6_axwigZ7X",
        "colab_type": "code",
        "colab": {
          "base_uri": "https://localhost:8080/",
          "height": 51
        },
        "outputId": "eea7f2df-733c-40ba-da70-d7c63a790639"
      },
      "source": [
        "score = int(input('請輸入一個成績?'))\n",
        "if score >= 60:\n",
        "    print('有及格ㄡ~')\n",
        "else:\n",
        "    print('不及格ㄟ!')"
      ],
      "execution_count": 5,
      "outputs": [
        {
          "output_type": "stream",
          "text": [
            "請輸入一個成績?50\n",
            "不及格ㄟ!\n"
          ],
          "name": "stdout"
        }
      ]
    },
    {
      "cell_type": "code",
      "metadata": {
        "id": "G44WH41_gwAV",
        "colab_type": "code",
        "colab": {
          "base_uri": "https://localhost:8080/",
          "height": 51
        },
        "outputId": "ed56c795-e023-406f-e057-214171f41d72"
      },
      "source": [
        "score=int(input('請輸入一個成績?'))\n",
        "if score>=80:\n",
        "  print('非常好')\n",
        "elif score>=60:\n",
        "    print('不錯喔')\n",
        "else:\n",
        "    print('要加油')"
      ],
      "execution_count": 9,
      "outputs": [
        {
          "output_type": "stream",
          "text": [
            "請輸入一個成績?66\n",
            "不錯喔\n"
          ],
          "name": "stdout"
        }
      ]
    },
    {
      "cell_type": "code",
      "metadata": {
        "id": "963C9bghhfh1",
        "colab_type": "code",
        "colab": {
          "base_uri": "https://localhost:8080/",
          "height": 68
        },
        "outputId": "76b41d50-18cb-4f56-9392-00028ee7a90e"
      },
      "source": [
        "x=float(input('請輸入該點的x座標?'))\n",
        "y=float(input('請輸入該點的y座標?'))\n",
        "\n",
        "if (x > 0):\n",
        "  if(y>0):\n",
        "     print('該點在第一象限')\n",
        "  else:\n",
        "     print('該點在第四象限')\n",
        "else:\n",
        "  if (y > 0):\n",
        "     print('該點在第二象限')\n",
        "  else:\n",
        "    prinr('該點在第三象限')"
      ],
      "execution_count": 27,
      "outputs": [
        {
          "output_type": "stream",
          "text": [
            "請輸入該點的x座標?1\n",
            "請輸入該點的y座標?1\n",
            "該點在第一象限\n"
          ],
          "name": "stdout"
        }
      ]
    }
  ]
}